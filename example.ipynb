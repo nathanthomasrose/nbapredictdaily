{
 "cells": [
  {
   "attachments": {},
   "cell_type": "markdown",
   "id": "67248219",
   "metadata": {},
   "source": [
    "#### Import `DailyReport` class from nbapredictdaily's `predict` module"
   ]
  },
  {
   "cell_type": "code",
   "execution_count": 1,
   "id": "eaf5c6fb-20e5-4eff-a82e-d0dbbd6dbb61",
   "metadata": {},
   "outputs": [],
   "source": [
    "from nbapredictdaily.predict import DailyReport"
   ]
  },
  {
   "attachments": {},
   "cell_type": "markdown",
   "id": "cbb888f7",
   "metadata": {},
   "source": [
    "#### Create `DailyReport` object, assign to variable"
   ]
  },
  {
   "cell_type": "code",
   "execution_count": 2,
   "id": "cb1ac45b",
   "metadata": {},
   "outputs": [
    {
     "name": "stdout",
     "output_type": "stream",
     "text": [
      "\n",
      "Generating NBA Game Schedule for 2/24/2023...\n"
     ]
    },
    {
     "name": "stderr",
     "output_type": "stream",
     "text": [
      "100%|██████████| 10/10 [00:33<00:00,  3.38s/it]\n"
     ]
    },
    {
     "name": "stdout",
     "output_type": "stream",
     "text": [
      "\n",
      "Compiling Statistical Data...\n"
     ]
    },
    {
     "name": "stderr",
     "output_type": "stream",
     "text": [
      "100%|██████████| 16/16 [00:56<00:00,  3.52s/it]\n"
     ]
    }
   ],
   "source": [
    "nba = DailyReport()"
   ]
  },
  {
   "attachments": {},
   "cell_type": "markdown",
   "id": "6cafef4f",
   "metadata": {},
   "source": [
    "#### Use `get_predictions` class method to generate predictions"
   ]
  },
  {
   "cell_type": "code",
   "execution_count": 5,
   "id": "ae41952e",
   "metadata": {},
   "outputs": [
    {
     "name": "stdout",
     "output_type": "stream",
     "text": [
      "\n",
      "Adding Player Stats to Game Data...\n"
     ]
    },
    {
     "name": "stderr",
     "output_type": "stream",
     "text": [
      "16it [00:00, 126.82it/s]"
     ]
    },
    {
     "name": "stdout",
     "output_type": "stream",
     "text": [
      "\n",
      "Building Game Prediction Dataset...\n",
      "\n",
      "Predicting Game Outcomes...\n",
      "\n",
      "Predictions Complete!\n",
      "          Date Predicted Winner Predicted Loser Probability (LR)  \\\n",
      "0   2023-02-24              LAC             SAC            74.6%   \n",
      "1   2023-02-24              MIL             MIA            61.2%   \n",
      "2   2023-02-24              ATL             CLE            61.6%   \n",
      "3   2023-02-24              PHO             OKC            69.9%   \n",
      "5   2023-02-24              MIN             CHO            79.3%   \n",
      "9   2023-02-24              NYK             WAS            50.1%   \n",
      "10  2023-02-24              BRK             CHI            56.3%   \n",
      "12  2023-02-24              GSW             HOU            62.3%   \n",
      "13  2023-02-24              WAS             NYK            50.5%   \n",
      "\n",
      "   Probability (MLP) Probability (RF)  \n",
      "0              68.7%            54.6%  \n",
      "1              67.7%            62.8%  \n",
      "2              53.4%            39.0%  \n",
      "3              63.7%            52.6%  \n",
      "5              89.9%            78.2%  \n",
      "9              43.2%            47.0%  \n",
      "10             61.1%            53.4%  \n",
      "12             78.3%            75.8%  \n",
      "13             48.0%            51.1%  \n"
     ]
    },
    {
     "name": "stderr",
     "output_type": "stream",
     "text": [
      "\n"
     ]
    }
   ],
   "source": [
    "nba.get_predictions()"
   ]
  }
 ],
 "metadata": {
  "kernelspec": {
   "display_name": "Python 3",
   "language": "python",
   "name": "python3"
  },
  "language_info": {
   "codemirror_mode": {
    "name": "ipython",
    "version": 3
   },
   "file_extension": ".py",
   "mimetype": "text/x-python",
   "name": "python",
   "nbconvert_exporter": "python",
   "pygments_lexer": "ipython3",
   "version": "3.11.2"
  },
  "vscode": {
   "interpreter": {
    "hash": "aee8b7b246df8f9039afb4144a1f6fd8d2ca17a180786b69acc140d282b71a49"
   }
  }
 },
 "nbformat": 4,
 "nbformat_minor": 5
}
